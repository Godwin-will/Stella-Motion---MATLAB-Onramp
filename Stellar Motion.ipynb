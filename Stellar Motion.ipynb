{
 "cells": [
  {
   "cell_type": "markdown",
   "id": "2bfa4953",
   "metadata": {},
   "source": [
    "### Load Data from File Directory"
   ]
  },
  {
   "cell_type": "code",
   "execution_count": null,
   "id": "e4515a8f",
   "metadata": {},
   "outputs": [],
   "source": [
    "load starData\n",
    "nObs = size(spectra,1)\n",
    "lambdaStart = 630.02\n",
    "lambdaDelta = 0.14"
   ]
  },
  {
   "cell_type": "markdown",
   "id": "51fd1ebe",
   "metadata": {},
   "source": [
    "### Mathematical Operation in MATLAB"
   ]
  },
  {
   "cell_type": "code",
   "execution_count": null,
   "id": "52046af6",
   "metadata": {},
   "outputs": [],
   "source": [
    "lambdaEnd = lambdaStart + (nObs-1)*lambdaDelta\n",
    "lambda = (lambdaStart:lambdaDelta:lambdaEnd)"
   ]
  },
  {
   "cell_type": "markdown",
   "id": "896096d3",
   "metadata": {},
   "source": [
    "### Extract Second Column of Spectra"
   ]
  },
  {
   "cell_type": "code",
   "execution_count": null,
   "id": "5b2cefa7",
   "metadata": {},
   "outputs": [],
   "source": [
    "s = spectra(:,2)"
   ]
  },
  {
   "cell_type": "markdown",
   "id": "d74763c7",
   "metadata": {},
   "source": [
    "### Plotting in MATLAB"
   ]
  },
  {
   "cell_type": "code",
   "execution_count": null,
   "id": "425a424c",
   "metadata": {},
   "outputs": [],
   "source": [
    "plot(lambda,s,\".-\")\n",
    "xlabel(\"Wavelength\")\n",
    "ylabel(\"Intensity\")\n",
    "[sHa,idx] = min(s)\n",
    "lambdaHa = lambda(idx)\n",
    "hold on\n",
    "plot(lambdaHa,sHa,\"rs\",\"MarkerSize\",8)\n",
    "hold off"
   ]
  },
  {
   "cell_type": "markdown",
   "id": "028406f9",
   "metadata": {},
   "source": [
    "### Result"
   ]
  },
  {
   "cell_type": "code",
   "execution_count": null,
   "id": "c4b69fb9",
   "metadata": {},
   "outputs": [],
   "source": [
    "z = lambdaHa/656.28 - 1\n",
    "speed = z*299792.458"
   ]
  },
  {
   "cell_type": "markdown",
   "id": "0f09756c",
   "metadata": {},
   "source": [
    "### Multiple Stars"
   ]
  },
  {
   "cell_type": "code",
   "execution_count": null,
   "id": "609ce207",
   "metadata": {},
   "outputs": [],
   "source": [
    "[sHa,idx] = min(spectra);\n",
    "lambdaHa = lambda(idx);\n",
    "z = lambdaHa/656.28 - 1;\n",
    "speed = z*299792.458"
   ]
  },
  {
   "cell_type": "markdown",
   "id": "018b7647",
   "metadata": {},
   "source": [
    "### Plotting Data of seven stars"
   ]
  },
  {
   "cell_type": "code",
   "execution_count": null,
   "id": "1cbe690d",
   "metadata": {},
   "outputs": [],
   "source": [
    "for v = 1:7\n",
    "    s = spectra(:,v);\n",
    "\n",
    "    if speed(v) <= 0\n",
    "        plot(lambda,s,\"--\")\n",
    "    else\n",
    "        plot(lambda,s,\"LineWidth\",3) \n",
    "    end\n",
    "    hold on\n",
    "end\n",
    "hold off"
   ]
  },
  {
   "cell_type": "markdown",
   "id": "4bd7d16c",
   "metadata": {},
   "source": [
    "### Aesthetics - Legend"
   ]
  },
  {
   "cell_type": "code",
   "execution_count": null,
   "id": "74267190",
   "metadata": {},
   "outputs": [],
   "source": [
    "legend(starnames)"
   ]
  },
  {
   "cell_type": "markdown",
   "id": "caec5977",
   "metadata": {},
   "source": [
    "### Stars with Speed Greater than zero "
   ]
  },
  {
   "cell_type": "code",
   "execution_count": null,
   "id": "318d100a",
   "metadata": {},
   "outputs": [],
   "source": [
    "movaway = starnames(speed > 0) "
   ]
  }
 ],
 "metadata": {
  "kernelspec": {
   "display_name": "Python 3 (ipykernel)",
   "language": "python",
   "name": "python3"
  },
  "language_info": {
   "codemirror_mode": {
    "name": "ipython",
    "version": 3
   },
   "file_extension": ".py",
   "mimetype": "text/x-python",
   "name": "python",
   "nbconvert_exporter": "python",
   "pygments_lexer": "ipython3",
   "version": "3.9.12"
  }
 },
 "nbformat": 4,
 "nbformat_minor": 5
}
